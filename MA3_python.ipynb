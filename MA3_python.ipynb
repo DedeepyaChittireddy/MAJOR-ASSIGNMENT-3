{
 "cells": [
  {
   "cell_type": "code",
   "execution_count": 1,
   "metadata": {},
   "outputs": [
    {
     "name": "stderr",
     "output_type": "stream",
     "text": [
      "C:\\Users\\dedee\\anaconda3\\lib\\site-packages\\pandas\\core\\computation\\expressions.py:20: UserWarning: Pandas requires version '2.7.3' or newer of 'numexpr' (version '2.7.1' currently installed).\n",
      "  from pandas.core.computation.check import NUMEXPR_INSTALLED\n"
     ]
    }
   ],
   "source": [
    "# Importing the necessary libraries\n",
    "import pandas as pd\n",
    "import networkx as nx\n",
    "from itertools import combinations\n",
    "import json\n",
    "from networkx.readwrite import json_graph\n"
   ]
  },
  {
   "cell_type": "code",
   "execution_count": 3,
   "metadata": {},
   "outputs": [],
   "source": [
    "# we will load the csv file\n",
    "data = pd.read_csv(\"data_scopus.csv\")"
   ]
  },
  {
   "cell_type": "code",
   "execution_count": 5,
   "metadata": {},
   "outputs": [],
   "source": [
    "# Cleaning the data\n",
    "data_cleaned = data.dropna(subset=['Year', 'Authors with affiliations', 'Author(s) ID'])"
   ]
  },
  {
   "cell_type": "code",
   "execution_count": 27,
   "metadata": {},
   "outputs": [],
   "source": [
    "# creating a new network graph\n",
    "G = nx.Graph()"
   ]
  },
  {
   "cell_type": "code",
   "execution_count": 28,
   "metadata": {},
   "outputs": [],
   "source": [
    "# Handle each row in the dataset that has been cleaned.\n",
    "for index, row in data_cleaned.iterrows():\n",
    "    # Remove any preceding and trailing whitespace and divide author IDs by semicolons.\n",
    "    author_ids = [author_id.strip() for author_id in row['Author(s) ID'].split(';') if author_id]\n",
    "\n",
    "    # Create a node for each author ID.\n",
    "    for author_id in author_ids:\n",
    "        if author_id not in G:\n",
    "            G.add_node(author_id)\n",
    "\n",
    "    # Include edges connecting each pair of this publication's author IDs.\n",
    "    for author_pair in combinations(author_ids, 2):\n",
    "        G.add_edge(*author_pair)"
   ]
  },
  {
   "cell_type": "code",
   "execution_count": 29,
   "metadata": {},
   "outputs": [],
   "source": [
    "#General information about the graph\n",
    "number_nodes = G.number_of_nodes()\n",
    "number_edges = G.number_of_edges()"
   ]
  },
  {
   "cell_type": "code",
   "execution_count": 30,
   "metadata": {},
   "outputs": [
    {
     "name": "stdout",
     "output_type": "stream",
     "text": [
      "Number of nodes (authors): 1552\n",
      "Number of edges (co-authorships): 3049\n"
     ]
    }
   ],
   "source": [
    "print(f\"Number of nodes (authors): {number_nodes}\")\n",
    "print(f\"Number of edges (co-authorships): {number_edges}\")"
   ]
  },
  {
   "cell_type": "code",
   "execution_count": 31,
   "metadata": {},
   "outputs": [],
   "source": [
    "#Transform the NetworkX graph into a D3.js-compatible format.\n",
    "data_for_d3 = json_graph.node_link_data(G)"
   ]
  },
  {
   "cell_type": "code",
   "execution_count": 32,
   "metadata": {},
   "outputs": [],
   "source": [
    "# Create a JSON file with the data.\n",
    "with open('network_graph.json', 'w') as f:\n",
    "    json.dump(data_for_d3, f)"
   ]
  },
  {
   "cell_type": "code",
   "execution_count": null,
   "metadata": {},
   "outputs": [],
   "source": []
  },
  {
   "cell_type": "code",
   "execution_count": null,
   "metadata": {},
   "outputs": [],
   "source": []
  }
 ],
 "metadata": {
  "kernelspec": {
   "display_name": "Python 3",
   "language": "python",
   "name": "python3"
  },
  "language_info": {
   "codemirror_mode": {
    "name": "ipython",
    "version": 3
   },
   "file_extension": ".py",
   "mimetype": "text/x-python",
   "name": "python",
   "nbconvert_exporter": "python",
   "pygments_lexer": "ipython3",
   "version": "3.8.5"
  }
 },
 "nbformat": 4,
 "nbformat_minor": 4
}
